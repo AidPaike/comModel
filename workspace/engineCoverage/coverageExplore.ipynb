{
 "cells": [
  {
   "cell_type": "markdown",
   "source": [
    "## 获取覆盖率文件"
   ],
   "metadata": {
    "collapsed": false
   }
  },
  {
   "cell_type": "code",
   "execution_count": 11,
   "metadata": {
    "collapsed": true
   },
   "outputs": [],
   "source": [
    "import re, os, sys\n",
    "import subprocess\n",
    "from pathlib import Path\n",
    "import configparser\n",
    "from tqdm import tqdm"
   ]
  },
  {
   "cell_type": "code",
   "execution_count": 12,
   "outputs": [
    {
     "name": "stdout",
     "output_type": "stream",
     "text": [
      "/root/comModel\n"
     ]
    },
    {
     "data": {
      "text/plain": "['/root/comModel/workspace/engineCoverage/coverageCombine.ini']"
     },
     "execution_count": 12,
     "metadata": {},
     "output_type": "execute_result"
    }
   ],
   "source": [
    "# 获取项目的绝对路径\n",
    "BASE_DIR = str(Path().resolve().parent.parent)\n",
    "sys.path.append(BASE_DIR)\n",
    "print(BASE_DIR)\n",
    "# 加载配置文件\n",
    "cf = configparser.ConfigParser()\n",
    "cf.read(os.path.join(BASE_DIR, \"workspace/engineCoverage/coverageCombine.ini\"), encoding='utf-8')\n",
    "# print(cf.get('coverageCombine', 'coverage'))"
   ],
   "metadata": {
    "collapsed": false
   }
  },
  {
   "cell_type": "code",
   "execution_count": 13,
   "outputs": [],
   "source": [
    "def recover_filename(model_testcase_path):\n",
    "    '''\n",
    "    恢复js文件名称,需要传入js文件所在的目录\n",
    "    jupyter中主要目标是进行可机动计算，所以不需要自动化，规定路径即可\n",
    "    '''\n",
    "\n",
    "    def recover_filter(f):\n",
    "        if f[-8:] in ['.changed']:\n",
    "            return True\n",
    "        else:\n",
    "            return False\n",
    "\n",
    "    recover_testcase_path = filter(recover_filter, os.listdir(model_testcase_path))\n",
    "    for file in tqdm(list(recover_testcase_path), desc=\"正在恢复js文件名称: \"):\n",
    "        cmd_coverage = f\"mv {os.path.join(model_testcase_path, file)} {os.path.join(model_testcase_path, file[:-8])}\"\n",
    "        pro = subprocess.Popen(cmd_coverage, stdin=subprocess.PIPE, stdout=subprocess.PIPE, shell=True,\n",
    "                               stderr=subprocess.PIPE, universal_newlines=True)\n",
    "        pro.communicate()"
   ],
   "metadata": {
    "collapsed": false
   }
  },
  {
   "cell_type": "code",
   "execution_count": 13,
   "outputs": [],
   "source": [],
   "metadata": {
    "collapsed": false
   }
  },
  {
   "cell_type": "code",
   "execution_count": 14,
   "outputs": [],
   "source": [
    "def getCoverageProfraw(testcases_path):\n",
    "    '''\n",
    "        用插桩之后的引擎获取覆盖率文件\n",
    "    '''\n",
    "    coverage_path = os.path.join(BASE_DIR, cf.get('coverageCombine', 'coverage'))\n",
    "    engine_path = os.path.join(BASE_DIR, cf.get('coverageCombine', 'engine'))\n",
    "    init_path = testcases_path.split(\"/\")\n",
    "    model_name = init_path[-3]\n",
    "    model_checkpoint = init_path[-2]\n",
    "    js_name_list = os.path.join(BASE_DIR, testcases_path)\n",
    "\n",
    "    # print(path_data)\n",
    "    js_list = [os.path.join(BASE_DIR, testcases_path, js_name) for js_name in os.listdir(js_name_list) if\n",
    "               js_name[-3:] == \".js\"]\n",
    "\n",
    "    for js_path in tqdm(js_list, desc=\"获取js的引擎覆盖率文件: \"):\n",
    "        LLVM_PROFILE_FILE = os.path.join(BASE_DIR, coverage_path, model_name, model_checkpoint,\n",
    "                                         js_path.split(\"/\")[-1] + \".profraw\")\n",
    "        LLVM_PROFDATA_FILE = os.path.join(BASE_DIR, coverage_path, model_name, model_checkpoint,\n",
    "                                          js_path.split(\"/\")[-1] + \".profdata\")\n",
    "\n",
    "        cmd = [\"timeout\", \"-s9\", \"30s\", engine_path, js_path]\n",
    "        my_env = os.environ.copy()\n",
    "        my_env['LLVM_PROFILE_FILE'] = LLVM_PROFILE_FILE\n",
    "        # print(LLVM_PROFILE_FILE)\n",
    "        # print(cmd)\n",
    "        pro = subprocess.Popen(cmd, stdin=subprocess.PIPE, stdout=subprocess.PIPE, shell=False, env=my_env,\n",
    "                               stderr=subprocess.PIPE, universal_newlines=True)\n",
    "        pro.communicate()\n",
    "\n",
    "        js_change_cmd = \"mv \" + js_path + \" \" + js_path + \".changed\"\n",
    "        pro = subprocess.Popen(js_change_cmd, stdin=subprocess.PIPE, stdout=subprocess.PIPE, shell=True,\n",
    "                               stderr=subprocess.PIPE, universal_newlines=True)\n",
    "        # print(js_change_cmd)\n",
    "        pro.communicate()\n",
    "\n",
    "        cmd_coverage = \"llvm-profdata-10 merge -o \" + LLVM_PROFDATA_FILE + \" \" + LLVM_PROFILE_FILE + \" && rm \" + LLVM_PROFILE_FILE\n",
    "        # print(cmd_coverage)\n",
    "        pro = subprocess.Popen(cmd_coverage, stdin=subprocess.PIPE, stdout=subprocess.PIPE, shell=True,\n",
    "                               stderr=subprocess.PIPE, universal_newlines=True)\n",
    "        pro.communicate()\n",
    "\n",
    "\n",
    "def profrawToProfdata(profraw_path):\n",
    "    '''\n",
    "    主要作为验证是否都转为profdata\n",
    "    '''\n",
    "\n",
    "    def recover_filter(f):\n",
    "        if f.split(\".\")[-1] in ['profraw']:\n",
    "            return True\n",
    "        else:\n",
    "            return False\n",
    "\n",
    "    profraw_path_list = filter(recover_filter, os.listdir(profraw_path))\n",
    "\n",
    "    profraw_path_list = [os.path.join(profraw_path, profraw_name) for profraw_name in profraw_path_list]\n",
    "\n",
    "    for profraw_name_path in tqdm(profraw_path_list, desc=\"最终检查profraw是否转化完毕:\"):\n",
    "        cmd_coverage = \"llvm-profdata-10 merge -o \" + profraw_name_path.replace(\"profraw\",\n",
    "                                                                                \"profdata\") + \" \" + profraw_name_path + \" && rm \" + profraw_name_path\n",
    "        # print(cmd_coverage)\n",
    "        pro = subprocess.Popen(cmd_coverage, stdin=subprocess.PIPE, stdout=subprocess.PIPE, shell=True,\n",
    "                               stderr=subprocess.PIPE, universal_newlines=True)\n",
    "        # pro.communicate()"
   ],
   "metadata": {
    "collapsed": false
   }
  },
  {
   "cell_type": "code",
   "execution_count": 15,
   "outputs": [],
   "source": [
    "def combinProfdata(profdata_path):\n",
    "    aim_profdata = profdata_path.split(\"/\")[-2] + \"_\" + profdata_path.split(\"/\")[-1] + \".profdata\"\n",
    "\n",
    "    def recover_filter(f):\n",
    "        if f.split(\".\")[-1] in ['profdata'] and f.split(\".\")[-2] in ['js']:\n",
    "            return True\n",
    "        else:\n",
    "            return False\n",
    "\n",
    "    profdata_path_list = filter(recover_filter, os.listdir(profdata_path))\n",
    "    profdata_path_list = [os.path.join(profdata_path, profraw_name) for profraw_name in profdata_path_list]\n",
    "    if not os.path.exists(os.path.join(profdata_path, aim_profdata)) and len(profdata_path_list) >= 2:\n",
    "        init_cmd = \"llvm-profdata-10 merge -sparse {p0} {p1} -o {Paim} && rm {p0} {p1}\".format(\n",
    "            p0=profdata_path_list[0], p1=profdata_path_list[1], Paim=os.path.join(profdata_path, aim_profdata)\n",
    "        )\n",
    "        pro = subprocess.Popen(init_cmd, stdin=subprocess.PIPE, stdout=subprocess.PIPE, shell=True,\n",
    "                               stderr=subprocess.PIPE, universal_newlines=True)\n",
    "        # print(init_cmd)\n",
    "        pro.communicate()\n",
    "\n",
    "    for profdata_name_path in tqdm(profdata_path_list, desc=\"合并profdata:\"):\n",
    "        combine_cmd = \"llvm-profdata-10 merge -sparse {Paim} {p0} -o {Paim} && rm {p0}\".format(\n",
    "                            Paim=os.path.join(profdata_path, aim_profdata), p0=profdata_name_path\n",
    "                        )\n",
    "        pro = subprocess.Popen(combine_cmd, stdin=subprocess.PIPE, stdout=subprocess.PIPE, shell=True,\n",
    "                           stderr=subprocess.PIPE, universal_newlines=True)\n",
    "        pro.communicate()\n",
    "\n"
   ],
   "metadata": {
    "collapsed": false
   }
  },
  {
   "cell_type": "code",
   "execution_count": 16,
   "outputs": [
    {
     "name": "stderr",
     "output_type": "stream",
     "text": [
      "正在恢复js文件名称: 100%|██████████| 28/28 [00:00<00:00, 94.84it/s] \n",
      "获取js的引擎覆盖率文件: 100%|██████████| 28/28 [00:41<00:00,  1.50s/it]\n",
      "最终检查profraw是否转化完毕:: 0it [00:00, ?it/s]\n",
      "合并profdata:: 100%|██████████| 28/28 [00:11<00:00,  2.36it/s]\n"
     ]
    }
   ],
   "source": [
    "# 恢复js name\n",
    "model_testcase_path = \"/root/comModel/data/Finetune_model/Finetune_distilgpt2/checkpoint-10000/testcases\"\n",
    "profraw_path = \"/root/comModel/data/coverage/Finetune_distilgpt2/checkpoint-10000\"\n",
    "profrdata_path = \"/root/comModel/data/coverage/Finetune_distilgpt2/checkpoint-10000\"\n",
    "if not os.path.exists(profraw_path):\n",
    "    os.makedirs(profraw_path)\n",
    "# 恢复js文件\n",
    "recover_filename(model_testcase_path)\n",
    "# 获取js的覆盖率文件(profraw)\n",
    "getCoverageProfraw(model_testcase_path)\n",
    "# 将profraw转为profdata\n",
    "profrawToProfdata(profraw_path)\n",
    "# 覆盖率合并\n",
    "combinProfdata(profrdata_path)"
   ],
   "metadata": {
    "collapsed": false
   }
  },
  {
   "cell_type": "markdown",
   "source": [],
   "metadata": {
    "collapsed": false
   }
  },
  {
   "cell_type": "markdown",
   "source": [
    "## 详细分析覆盖率文件"
   ],
   "metadata": {
    "collapsed": false
   }
  },
  {
   "cell_type": "code",
   "execution_count": 22,
   "outputs": [],
   "source": [
    "def getShowProfraw(profraw_combine):\n",
    "    engine_path = os.path.join(BASE_DIR, cf.get('coverageCombine', 'engine'))\n",
    "    combine_cmd = \"llvm-cov-10 show {engine} -instr-profile={profraw_combine}\".format(\n",
    "                                engine=engine_path, profraw_combine=profraw_combine)\n",
    "    pro = subprocess.Popen(combine_cmd, stdin=subprocess.PIPE, stdout=subprocess.PIPE, shell=True,\n",
    "                       stderr=subprocess.PIPE, universal_newlines=True)\n",
    "    stdout, stderr = pro.communicate()\n",
    "    return stdout,stderr\n",
    "profraw_combine = \"/root/comModel/data/coverage/Finetune_distilgpt2/checkpoint-10000/Finetune_distilgpt2_checkpoint-10000.profdata\"\n",
    "stdout,stderr = getShowProfraw(profraw_combine)\n",
    "with open('report/getShowProfraw.txt','w') as f:    #设置文件对象\n",
    "    f.write(stdout)                 #将字符串写入文件中"
   ],
   "metadata": {
    "collapsed": false
   }
  },
  {
   "cell_type": "code",
   "execution_count": 32,
   "outputs": [
    {
     "name": "stdout",
     "output_type": "stream",
     "text": [
      "llvm-cov-10 report /root/comModel/engine/ch -instr-profile=/root/comModel/data/coverage/Finetune_distilgpt2/checkpoint-10000/Finetune_distilgpt2_checkpoint-10000.profdata\n"
     ]
    }
   ],
   "source": [
    "def getReportProfraw(profraw_combine):\n",
    "    engine_path = os.path.join(BASE_DIR, cf.get('coverageCombine', 'engine'))\n",
    "    combine_cmd = \"llvm-cov-10 report {engine} -instr-profile={profraw_combine}\".format(\n",
    "                                engine=engine_path, profraw_combine=profraw_combine)\n",
    "    pro = subprocess.Popen(combine_cmd, stdin=subprocess.PIPE, stdout=subprocess.PIPE, shell=True,\n",
    "                       stderr=subprocess.PIPE, universal_newlines=True)\n",
    "    stdout, stderr = pro.communicate()\n",
    "    return stdout,stderr\n",
    "profraw_combine = \"/root/comModel/data/coverage/Finetune_distilgpt2/checkpoint-10000/Finetune_distilgpt2_checkpoint-10000.profdata\"\n",
    "stdout,stderr = getReportProfraw(profraw_combine)\n",
    "with open('report/getReportProfraw.txt','w') as f:    #设置文件对象\n",
    "    f.write(stdout)                 #将字符串写入文件中"
   ],
   "metadata": {
    "collapsed": false
   }
  },
  {
   "cell_type": "code",
   "execution_count": 37,
   "outputs": [],
   "source": [
    "import json\n",
    "def getExportProfraw(profraw_combine):\n",
    "    engine_path = os.path.join(BASE_DIR, cf.get('coverageCombine', 'engine'))\n",
    "    combine_cmd = \"llvm-cov-10 export {engine} -instr-profile={profraw_combine}\".format(\n",
    "                                engine=engine_path, profraw_combine=profraw_combine)\n",
    "\n",
    "    pro = subprocess.Popen(combine_cmd, stdin=subprocess.PIPE, stdout=subprocess.PIPE, shell=True,\n",
    "                       stderr=subprocess.PIPE, universal_newlines=True)\n",
    "    stdout, stderr = pro.communicate()\n",
    "\n",
    "    return stdout,stderr\n",
    "profraw_combine = \"/root/comModel/data/coverage/Finetune_distilgpt2/checkpoint-10000/Finetune_distilgpt2_checkpoint-10000.profdata\"\n",
    "stdout,stderr = getExportProfraw(profraw_combine)"
   ],
   "metadata": {
    "collapsed": false
   }
  },
  {
   "cell_type": "code",
   "execution_count": 39,
   "outputs": [],
   "source": [
    "with open(\"report/profraw_combine.json\", 'w') as write_f:\n",
    "\twrite_f.write(stdout)"
   ],
   "metadata": {
    "collapsed": false
   }
  },
  {
   "cell_type": "code",
   "execution_count": null,
   "outputs": [],
   "source": [],
   "metadata": {
    "collapsed": false
   }
  },
  {
   "cell_type": "code",
   "execution_count": null,
   "outputs": [],
   "source": [],
   "metadata": {
    "collapsed": false
   }
  }
 ],
 "metadata": {
  "kernelspec": {
   "display_name": "Python 3",
   "language": "python",
   "name": "python3"
  },
  "language_info": {
   "codemirror_mode": {
    "name": "ipython",
    "version": 2
   },
   "file_extension": ".py",
   "mimetype": "text/x-python",
   "name": "python",
   "nbconvert_exporter": "python",
   "pygments_lexer": "ipython2",
   "version": "2.7.6"
  }
 },
 "nbformat": 4,
 "nbformat_minor": 0
}
